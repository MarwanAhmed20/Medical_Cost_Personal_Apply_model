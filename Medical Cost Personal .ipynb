{
 "cells": [
  {
   "cell_type": "code",
   "execution_count": 203,
   "id": "98e51e0d",
   "metadata": {},
   "outputs": [],
   "source": [
    "import pandas as pd\n",
    "import numpy as np\n",
    "from matplotlib import pyplot as plt\n",
    "import seaborn as sns\n",
    "from sklearn.model_selection import train_test_split\n",
    "\n",
    "from sklearn.metrics import accuracy_score\n",
    "from sklearn.metrics import mean_absolute_error \n",
    "from sklearn.metrics import mean_squared_error \n",
    "from sklearn.metrics import median_absolute_error\n",
    "\n",
    "from sklearn.model_selection import cross_val_score\n",
    "import statsmodels.formula.api as sm"
   ]
  },
  {
   "cell_type": "markdown",
   "id": "4f928e2d",
   "metadata": {},
   "source": [
    "# Load data"
   ]
  },
  {
   "cell_type": "code",
   "execution_count": 204,
   "id": "20dcb3be",
   "metadata": {},
   "outputs": [],
   "source": [
    "df = pd.read_csv(\"insurance.csv\")"
   ]
  },
  {
   "cell_type": "code",
   "execution_count": 205,
   "id": "87ab962a",
   "metadata": {},
   "outputs": [
    {
     "data": {
      "text/html": [
       "<div>\n",
       "<style scoped>\n",
       "    .dataframe tbody tr th:only-of-type {\n",
       "        vertical-align: middle;\n",
       "    }\n",
       "\n",
       "    .dataframe tbody tr th {\n",
       "        vertical-align: top;\n",
       "    }\n",
       "\n",
       "    .dataframe thead th {\n",
       "        text-align: right;\n",
       "    }\n",
       "</style>\n",
       "<table border=\"1\" class=\"dataframe\">\n",
       "  <thead>\n",
       "    <tr style=\"text-align: right;\">\n",
       "      <th></th>\n",
       "      <th>age</th>\n",
       "      <th>sex</th>\n",
       "      <th>bmi</th>\n",
       "      <th>children</th>\n",
       "      <th>smoker</th>\n",
       "      <th>region</th>\n",
       "      <th>charges</th>\n",
       "    </tr>\n",
       "  </thead>\n",
       "  <tbody>\n",
       "    <tr>\n",
       "      <th>0</th>\n",
       "      <td>19</td>\n",
       "      <td>female</td>\n",
       "      <td>27.900</td>\n",
       "      <td>0</td>\n",
       "      <td>yes</td>\n",
       "      <td>southwest</td>\n",
       "      <td>16884.92400</td>\n",
       "    </tr>\n",
       "    <tr>\n",
       "      <th>1</th>\n",
       "      <td>18</td>\n",
       "      <td>male</td>\n",
       "      <td>33.770</td>\n",
       "      <td>1</td>\n",
       "      <td>no</td>\n",
       "      <td>southeast</td>\n",
       "      <td>1725.55230</td>\n",
       "    </tr>\n",
       "    <tr>\n",
       "      <th>2</th>\n",
       "      <td>28</td>\n",
       "      <td>male</td>\n",
       "      <td>33.000</td>\n",
       "      <td>3</td>\n",
       "      <td>no</td>\n",
       "      <td>southeast</td>\n",
       "      <td>4449.46200</td>\n",
       "    </tr>\n",
       "    <tr>\n",
       "      <th>3</th>\n",
       "      <td>33</td>\n",
       "      <td>male</td>\n",
       "      <td>22.705</td>\n",
       "      <td>0</td>\n",
       "      <td>no</td>\n",
       "      <td>northwest</td>\n",
       "      <td>21984.47061</td>\n",
       "    </tr>\n",
       "    <tr>\n",
       "      <th>4</th>\n",
       "      <td>32</td>\n",
       "      <td>male</td>\n",
       "      <td>28.880</td>\n",
       "      <td>0</td>\n",
       "      <td>no</td>\n",
       "      <td>northwest</td>\n",
       "      <td>3866.85520</td>\n",
       "    </tr>\n",
       "  </tbody>\n",
       "</table>\n",
       "</div>"
      ],
      "text/plain": [
       "   age     sex     bmi  children smoker     region      charges\n",
       "0   19  female  27.900         0    yes  southwest  16884.92400\n",
       "1   18    male  33.770         1     no  southeast   1725.55230\n",
       "2   28    male  33.000         3     no  southeast   4449.46200\n",
       "3   33    male  22.705         0     no  northwest  21984.47061\n",
       "4   32    male  28.880         0     no  northwest   3866.85520"
      ]
     },
     "execution_count": 205,
     "metadata": {},
     "output_type": "execute_result"
    }
   ],
   "source": [
    "df.head()"
   ]
  },
  {
   "cell_type": "markdown",
   "id": "dbb09a15",
   "metadata": {},
   "source": [
    "# Preprossing the data"
   ]
  },
  {
   "cell_type": "markdown",
   "id": "fb5e8dc6",
   "metadata": {},
   "source": [
    "* ## Check out the Missing Values"
   ]
  },
  {
   "cell_type": "code",
   "execution_count": 206,
   "id": "f70b7c00",
   "metadata": {},
   "outputs": [
    {
     "name": "stdout",
     "output_type": "stream",
     "text": [
      "<class 'pandas.core.frame.DataFrame'>\n",
      "RangeIndex: 1338 entries, 0 to 1337\n",
      "Data columns (total 7 columns):\n",
      " #   Column    Non-Null Count  Dtype  \n",
      "---  ------    --------------  -----  \n",
      " 0   age       1338 non-null   int64  \n",
      " 1   sex       1338 non-null   object \n",
      " 2   bmi       1338 non-null   float64\n",
      " 3   children  1338 non-null   int64  \n",
      " 4   smoker    1338 non-null   object \n",
      " 5   region    1338 non-null   object \n",
      " 6   charges   1338 non-null   float64\n",
      "dtypes: float64(2), int64(2), object(3)\n",
      "memory usage: 73.3+ KB\n"
     ]
    }
   ],
   "source": [
    "df.info()"
   ]
  },
  {
   "cell_type": "markdown",
   "id": "68e085a7",
   "metadata": {},
   "source": [
    "* ## transform categorical data"
   ]
  },
  {
   "cell_type": "code",
   "execution_count": 207,
   "id": "80cd7472",
   "metadata": {},
   "outputs": [],
   "source": [
    "from sklearn.preprocessing import LabelEncoder\n",
    "from sklearn.preprocessing import OneHotEncoder"
   ]
  },
  {
   "cell_type": "code",
   "execution_count": 208,
   "id": "43e683ec",
   "metadata": {},
   "outputs": [],
   "source": [
    "lb_sex = LabelEncoder()\n",
    "lb_smoker = LabelEncoder()\n",
    "lb_region = LabelEncoder()\n",
    "\n",
    "df['sex_encoded'] = lb_sex.fit_transform(df.sex)\n",
    "df['smoker_encoded'] = lb_smoker.fit_transform(df.smoker)\n",
    "df['region_encoded'] = lb_region.fit_transform(df.region)\n",
    "\n",
    "ohe_region = OneHotEncoder()\n",
    "# One hot encoding (OHE) to array--\n",
    "arr_ohe_region = ohe_region.fit_transform(data.region_encoded.values.reshape(-1,1)).toarray()\n"
   ]
  },
  {
   "cell_type": "code",
   "execution_count": 209,
   "id": "1614675c",
   "metadata": {},
   "outputs": [],
   "source": [
    "# Convert array OHE to dataframe and append to existing dataframe--\n",
    "dfOneHot = pd.DataFrame(arr_ohe_region, columns=['region_'+str(i) for i in range(arr_ohe_region.shape[1])])\n",
    "df = pd.concat([df, dfOneHot], axis=1)\n",
    "df_pre = df.drop(['sex','smoker','region','region_encoded','region_0'], axis=1)"
   ]
  },
  {
   "cell_type": "code",
   "execution_count": 210,
   "id": "87f1770b",
   "metadata": {},
   "outputs": [
    {
     "data": {
      "text/html": [
       "<div>\n",
       "<style scoped>\n",
       "    .dataframe tbody tr th:only-of-type {\n",
       "        vertical-align: middle;\n",
       "    }\n",
       "\n",
       "    .dataframe tbody tr th {\n",
       "        vertical-align: top;\n",
       "    }\n",
       "\n",
       "    .dataframe thead th {\n",
       "        text-align: right;\n",
       "    }\n",
       "</style>\n",
       "<table border=\"1\" class=\"dataframe\">\n",
       "  <thead>\n",
       "    <tr style=\"text-align: right;\">\n",
       "      <th></th>\n",
       "      <th>age</th>\n",
       "      <th>bmi</th>\n",
       "      <th>children</th>\n",
       "      <th>charges</th>\n",
       "      <th>sex_encoded</th>\n",
       "      <th>smoker_encoded</th>\n",
       "      <th>region_1</th>\n",
       "      <th>region_2</th>\n",
       "      <th>region_3</th>\n",
       "    </tr>\n",
       "  </thead>\n",
       "  <tbody>\n",
       "    <tr>\n",
       "      <th>0</th>\n",
       "      <td>19</td>\n",
       "      <td>27.900</td>\n",
       "      <td>0</td>\n",
       "      <td>16884.92400</td>\n",
       "      <td>0</td>\n",
       "      <td>1</td>\n",
       "      <td>0.0</td>\n",
       "      <td>0.0</td>\n",
       "      <td>1.0</td>\n",
       "    </tr>\n",
       "    <tr>\n",
       "      <th>1</th>\n",
       "      <td>18</td>\n",
       "      <td>33.770</td>\n",
       "      <td>1</td>\n",
       "      <td>1725.55230</td>\n",
       "      <td>1</td>\n",
       "      <td>0</td>\n",
       "      <td>0.0</td>\n",
       "      <td>1.0</td>\n",
       "      <td>0.0</td>\n",
       "    </tr>\n",
       "    <tr>\n",
       "      <th>2</th>\n",
       "      <td>28</td>\n",
       "      <td>33.000</td>\n",
       "      <td>3</td>\n",
       "      <td>4449.46200</td>\n",
       "      <td>1</td>\n",
       "      <td>0</td>\n",
       "      <td>0.0</td>\n",
       "      <td>1.0</td>\n",
       "      <td>0.0</td>\n",
       "    </tr>\n",
       "    <tr>\n",
       "      <th>3</th>\n",
       "      <td>33</td>\n",
       "      <td>22.705</td>\n",
       "      <td>0</td>\n",
       "      <td>21984.47061</td>\n",
       "      <td>1</td>\n",
       "      <td>0</td>\n",
       "      <td>1.0</td>\n",
       "      <td>0.0</td>\n",
       "      <td>0.0</td>\n",
       "    </tr>\n",
       "    <tr>\n",
       "      <th>4</th>\n",
       "      <td>32</td>\n",
       "      <td>28.880</td>\n",
       "      <td>0</td>\n",
       "      <td>3866.85520</td>\n",
       "      <td>1</td>\n",
       "      <td>0</td>\n",
       "      <td>1.0</td>\n",
       "      <td>0.0</td>\n",
       "      <td>0.0</td>\n",
       "    </tr>\n",
       "  </tbody>\n",
       "</table>\n",
       "</div>"
      ],
      "text/plain": [
       "   age     bmi  children      charges  sex_encoded  smoker_encoded  region_1  \\\n",
       "0   19  27.900         0  16884.92400            0               1       0.0   \n",
       "1   18  33.770         1   1725.55230            1               0       0.0   \n",
       "2   28  33.000         3   4449.46200            1               0       0.0   \n",
       "3   33  22.705         0  21984.47061            1               0       1.0   \n",
       "4   32  28.880         0   3866.85520            1               0       1.0   \n",
       "\n",
       "   region_2  region_3  \n",
       "0       0.0       1.0  \n",
       "1       1.0       0.0  \n",
       "2       1.0       0.0  \n",
       "3       0.0       0.0  \n",
       "4       0.0       0.0  "
      ]
     },
     "execution_count": 210,
     "metadata": {},
     "output_type": "execute_result"
    }
   ],
   "source": [
    "df_pre.head()"
   ]
  },
  {
   "cell_type": "markdown",
   "id": "a582c991",
   "metadata": {},
   "source": [
    "* ## feature scaling\n"
   ]
  },
  {
   "cell_type": "code",
   "execution_count": 211,
   "id": "55da6d9b",
   "metadata": {},
   "outputs": [],
   "source": [
    "from sklearn.preprocessing import StandardScaler"
   ]
  },
  {
   "cell_type": "code",
   "execution_count": 212,
   "id": "a30a13a4",
   "metadata": {},
   "outputs": [
    {
     "name": "stdout",
     "output_type": "stream",
     "text": [
      "<class 'pandas.core.frame.DataFrame'>\n",
      "RangeIndex: 1338 entries, 0 to 1337\n",
      "Data columns (total 9 columns):\n",
      " #   Column          Non-Null Count  Dtype  \n",
      "---  ------          --------------  -----  \n",
      " 0   age             1338 non-null   int64  \n",
      " 1   bmi             1338 non-null   float64\n",
      " 2   children        1338 non-null   int64  \n",
      " 3   charges         1338 non-null   float64\n",
      " 4   sex_encoded     1338 non-null   int32  \n",
      " 5   smoker_encoded  1338 non-null   int32  \n",
      " 6   region_1        1338 non-null   float64\n",
      " 7   region_2        1338 non-null   float64\n",
      " 8   region_3        1338 non-null   float64\n",
      "dtypes: float64(5), int32(2), int64(2)\n",
      "memory usage: 83.8 KB\n"
     ]
    }
   ],
   "source": [
    "standard_x = StandardScaler()\n",
    "x_train = standard_x.fit_transform(df_pre)\n",
    "x_test = standard_x.fit_transform(df_pre)\n",
    "#After Feature Scaling all values comes into same scale\n",
    "df_pre.info()"
   ]
  },
  {
   "cell_type": "markdown",
   "id": "d3c311a5",
   "metadata": {},
   "source": [
    "# Seprating the Data & Label\n"
   ]
  },
  {
   "cell_type": "code",
   "execution_count": 213,
   "id": "91ea7a17",
   "metadata": {},
   "outputs": [],
   "source": [
    "variables = ['age','sex_encoded','bmi','children','smoker_encoded','region_1','region_2','region_3']\n",
    "\n",
    "X = df_pre[variables]\n",
    "Y = data['charges']\n",
    "\n",
    "sc = StandardScaler()\n",
    "X = sc.fit_transform(X) \n",
    "X_train, X_test, y_train, y_test = train_test_split(X, Y, test_size=0.2, random_state=44)"
   ]
  },
  {
   "cell_type": "markdown",
   "id": "85706c52",
   "metadata": {},
   "source": [
    "# Apply Models"
   ]
  },
  {
   "cell_type": "markdown",
   "id": "0ad7490f",
   "metadata": {},
   "source": [
    "* ## Apply Decision Tree Regressor Model\n"
   ]
  },
  {
   "cell_type": "code",
   "execution_count": 214,
   "id": "0eef24fe",
   "metadata": {},
   "outputs": [
    {
     "data": {
      "text/plain": [
       "DecisionTreeRegressor(criterion='mse', max_depth=10, random_state=33)"
      ]
     },
     "execution_count": 214,
     "metadata": {},
     "output_type": "execute_result"
    }
   ],
   "source": [
    "from sklearn.tree import DecisionTreeRegressor\n",
    "DecisionTreeRegressor = DecisionTreeRegressor(criterion='mse', splitter='best', max_depth=10,random_state=33)\n",
    "DecisionTreeRegressor.fit(X_train, y_train)"
   ]
  },
  {
   "cell_type": "code",
   "execution_count": 215,
   "id": "81d47a45",
   "metadata": {},
   "outputs": [
    {
     "name": "stdout",
     "output_type": "stream",
     "text": [
      "Linear Regression Train Score is :  0.9730420091296879\n",
      "Linear Regression Test Score is :  0.7046938656736844\n"
     ]
    }
   ],
   "source": [
    "print('Linear Regression Train Score is : ' , DecisionTreeRegressor.score(X_train, y_train))\n",
    "print('Linear Regression Test Score is : ' , DecisionTreeRegressor.score(X_test, y_test))"
   ]
  },
  {
   "cell_type": "code",
   "execution_count": 216,
   "id": "d8f8e583",
   "metadata": {},
   "outputs": [
    {
     "name": "stdout",
     "output_type": "stream",
     "text": [
      "Predicted Value for DecisionTreeRegressorModel is :  [ 5643.99698345  1724.50967778  8351.64114333 19444.2658\n",
      "  1898.16990625]\n",
      "Predicted Value for DecisionTreeRegressorModel is :  440      4738.26820\n",
      "1202     2055.32490\n",
      "820      7445.91800\n",
      "730     19361.99880\n",
      "78       2755.02095\n",
      "Name: charges, dtype: float64\n"
     ]
    }
   ],
   "source": [
    "#Calculating Prediction\n",
    "y_pred = DecisionTreeRegressor.predict(X_test)\n",
    "print('Predicted Value for DecisionTreeRegressorModel is : ' , y_pred[:5])\n",
    "print('Predicted Value for DecisionTreeRegressorModel is : ' , y_test[:5])"
   ]
  },
  {
   "cell_type": "code",
   "execution_count": 217,
   "id": "a51d42f8",
   "metadata": {},
   "outputs": [
    {
     "name": "stdout",
     "output_type": "stream",
     "text": [
      "Mean Absolute Error Value is :  3120.7238640506775\n",
      "Mean Squared Error Value is :  38863863.781351484\n",
      "Median Squared Error Value is :  550.769365000001\n"
     ]
    }
   ],
   "source": [
    "#Calculating Mean Absolute Error\n",
    "MAEValue = mean_absolute_error(y_test, y_pred, multioutput='uniform_average') # it can be raw_values\n",
    "print('Mean Absolute Error Value is : ', MAEValue)\n",
    "\n",
    "#Calculating Mean Squared Error\n",
    "MSEValue = mean_squared_error(y_test, y_pred, multioutput='uniform_average') # it can be raw_values\n",
    "print('Mean Squared Error Value is : ', MSEValue)\n",
    "\n",
    "#Calculating Median Squared Error\n",
    "MdSEValue = median_absolute_error(y_test, y_pred)\n",
    "print('Median Squared Error Value is : ', MdSEValue )"
   ]
  },
  {
   "cell_type": "markdown",
   "id": "854ccf82",
   "metadata": {},
   "source": [
    "* ## Applying Linear Regression Model \n"
   ]
  },
  {
   "cell_type": "code",
   "execution_count": 218,
   "id": "c94c06a1",
   "metadata": {},
   "outputs": [
    {
     "data": {
      "text/plain": [
       "LinearRegression(n_jobs=-1, normalize=True)"
      ]
     },
     "execution_count": 218,
     "metadata": {},
     "output_type": "execute_result"
    }
   ],
   "source": [
    "from sklearn.linear_model import LinearRegression\n",
    "LinearRegressionModel=LinearRegression(fit_intercept=True, normalize=True,copy_X=True,n_jobs=-1)\n",
    "LinearRegressionModel.fit(X_train , y_train)"
   ]
  },
  {
   "cell_type": "code",
   "execution_count": 219,
   "id": "fa279a94",
   "metadata": {},
   "outputs": [
    {
     "name": "stdout",
     "output_type": "stream",
     "text": [
      "Linear Regression Train Score is :  0.7498624222445878\n",
      "Linear Regression Test Score is :  0.754612738494679\n"
     ]
    }
   ],
   "source": [
    "#Calculating Details\n",
    "print('Linear Regression Train Score is : ' , LinearRegressionModel.score(X_train, y_train))\n",
    "print('Linear Regression Test Score is : ' , LinearRegressionModel.score(X_test, y_test))"
   ]
  },
  {
   "cell_type": "code",
   "execution_count": 220,
   "id": "0cedb816",
   "metadata": {},
   "outputs": [
    {
     "name": "stdout",
     "output_type": "stream",
     "text": [
      "Predicted Value for Linear Regression is :  [ 7336.33461014  4113.32527721 10321.58907777 29595.12579574\n",
      "  7299.85587915]\n",
      "Predicted Value for Linear Regression is :  440      4738.26820\n",
      "1202     2055.32490\n",
      "820      7445.91800\n",
      "730     19361.99880\n",
      "78       2755.02095\n",
      "Name: charges, dtype: float64\n"
     ]
    }
   ],
   "source": [
    "#Calculating Prediction\n",
    "y_pred = LinearRegressionModel.predict(X_test)\n",
    "print('Predicted Value for Linear Regression is : ' , y_pred[:5])\n",
    "print('Predicted Value for Linear Regression is : ' , y_test[:5])"
   ]
  },
  {
   "cell_type": "code",
   "execution_count": 221,
   "id": "05aa86af",
   "metadata": {},
   "outputs": [
    {
     "name": "stdout",
     "output_type": "stream",
     "text": [
      "Mean Absolute Error Value is :  4031.671697619286\n",
      "Mean Squared Error Value is :  32294273.624142006\n",
      "Median Squared Error Value is :  2480.184319144254\n"
     ]
    }
   ],
   "source": [
    "#Calculating Mean Absolute Error\n",
    "MAEValue = mean_absolute_error(y_test, y_pred, multioutput='uniform_average')\n",
    "print('Mean Absolute Error Value is : ', MAEValue)\n",
    "\n",
    "MSEValue = mean_squared_error(y_test, y_pred, multioutput='uniform_average') \n",
    "print('Mean Squared Error Value is : ', MSEValue)\n",
    "\n",
    "MdSEValue = median_absolute_error(y_test, y_pred)\n",
    "print('Median Squared Error Value is : ', MdSEValue )"
   ]
  },
  {
   "cell_type": "markdown",
   "id": "2a851f1c",
   "metadata": {},
   "source": [
    "* ## Apply ExtraTreesRegressor\n"
   ]
  },
  {
   "cell_type": "code",
   "execution_count": 222,
   "id": "84bf7edd",
   "metadata": {},
   "outputs": [
    {
     "data": {
      "text/plain": [
       "ExtraTreesRegressor(n_estimators=200)"
      ]
     },
     "execution_count": 222,
     "metadata": {},
     "output_type": "execute_result"
    }
   ],
   "source": [
    "from sklearn.ensemble import ExtraTreesRegressor\n",
    "regressor = ExtraTreesRegressor(n_estimators = 200)\n",
    "regressor.fit(X_train,y_train)"
   ]
  },
  {
   "cell_type": "code",
   "execution_count": 223,
   "id": "189a2e71",
   "metadata": {},
   "outputs": [
    {
     "name": "stdout",
     "output_type": "stream",
     "text": [
      "ExtraTreesRegressorModel Train Score is :  0.9983742332704377\n",
      "ExtraTreesRegressorModel Test Score is :  0.807725207881377\n"
     ]
    }
   ],
   "source": [
    "#Calculating Details\n",
    "print('ExtraTreesRegressorModel Train Score is : ' , regressor.score(X_train, y_train))\n",
    "print('ExtraTreesRegressorModel Test Score is : ' , regressor.score(X_test, y_test))"
   ]
  },
  {
   "cell_type": "code",
   "execution_count": 224,
   "id": "43b406bb",
   "metadata": {},
   "outputs": [
    {
     "name": "stdout",
     "output_type": "stream",
     "text": [
      "Predicted Value for ExtraTreesRegressor is :  [ 4582.772611    2938.95648785  7493.0564925  19021.3838692\n",
      "  3479.8276634 ]\n",
      "Predicted Value for ExtraTreesRegressor is :  440      4738.26820\n",
      "1202     2055.32490\n",
      "820      7445.91800\n",
      "730     19361.99880\n",
      "78       2755.02095\n",
      "Name: charges, dtype: float64\n"
     ]
    }
   ],
   "source": [
    "#prediction and evaluation\n",
    "y_pred = regressor.predict(X_test)\n",
    "print('Predicted Value for ExtraTreesRegressor is : ' , y_pred[:5])\n",
    "print('Predicted Value for ExtraTreesRegressor is : ' , y_test[:5])"
   ]
  },
  {
   "cell_type": "code",
   "execution_count": 225,
   "id": "caf38f5b",
   "metadata": {},
   "outputs": [
    {
     "name": "stdout",
     "output_type": "stream",
     "text": [
      "Mean Absolute Error Value is :  2607.969020715991\n",
      "Mean Squared Error Value is :  25304389.109738644\n",
      "Median Squared Error Value is :  641.1328224000008\n"
     ]
    }
   ],
   "source": [
    "#Calculating Mean Absolute Error\n",
    "\n",
    "MAEValue = mean_absolute_error(y_test, y_pred, multioutput='uniform_average')\n",
    "print('Mean Absolute Error Value is : ', MAEValue)\n",
    "\n",
    "MSEValue = mean_squared_error(y_test, y_pred, multioutput='uniform_average') \n",
    "print('Mean Squared Error Value is : ', MSEValue)\n",
    "\n",
    "MdSEValue = median_absolute_error(y_test, y_pred)\n",
    "print('Median Squared Error Value is : ', MdSEValue )\n"
   ]
  },
  {
   "cell_type": "markdown",
   "id": "0a009c4d",
   "metadata": {},
   "source": [
    "* ## Apply Knn model\n"
   ]
  },
  {
   "cell_type": "code",
   "execution_count": 226,
   "id": "b52dcee5",
   "metadata": {},
   "outputs": [],
   "source": [
    "from sklearn import neighbors\n",
    "knn = neighbors.KNeighborsRegressor(n_neighbors = 10 , weights ='distance' ,p=2, metric='minkowski')\n",
    "y_pred = knn.fit(X_train, y_train)\n",
    "y_pred = knn.predict(X_test) "
   ]
  },
  {
   "cell_type": "code",
   "execution_count": 227,
   "id": "111a311b",
   "metadata": {},
   "outputs": [
    {
     "name": "stdout",
     "output_type": "stream",
     "text": [
      "KNeighborsRegressorModel Train Score is :  0.9983742332704377\n",
      "KNeighborsRegressorModel Test Score is :  0.8094535885580901\n"
     ]
    }
   ],
   "source": [
    "#Calculating Details\n",
    "print('KNeighborsRegressorModel Train Score is : ' , knn.score(X_train, y_train))\n",
    "print('KNeighborsRegressorModel Test Score is : ' , knn.score(X_test, y_test))"
   ]
  },
  {
   "cell_type": "code",
   "execution_count": 228,
   "id": "bd4ca4a6",
   "metadata": {},
   "outputs": [
    {
     "name": "stdout",
     "output_type": "stream",
     "text": [
      "Predicted Value for Knn is :  [ 4476.40600515  3614.49941016  8076.82482832 22957.88041439\n",
      "  6004.68039674]\n",
      "Predicted Value for Knn is :  440      4738.26820\n",
      "1202     2055.32490\n",
      "820      7445.91800\n",
      "730     19361.99880\n",
      "78       2755.02095\n",
      "Name: charges, dtype: float64\n"
     ]
    }
   ],
   "source": [
    "print('Predicted Value for Knn is : ' , y_pred[:5])\n",
    "print('Predicted Value for Knn is : ' , y_test[:5])"
   ]
  },
  {
   "cell_type": "code",
   "execution_count": 229,
   "id": "9d41d289",
   "metadata": {},
   "outputs": [
    {
     "name": "stdout",
     "output_type": "stream",
     "text": [
      "Mean Absolute Error Value is :  2988.887736677658\n",
      "Mean Squared Error Value is :  25076924.985651493\n",
      "Median Squared Error Value is :  1540.5541995143096\n"
     ]
    }
   ],
   "source": [
    "#Calculating Mean Absolute Error\n",
    "MAEValue = mean_absolute_error(y_test, y_pred, multioutput='uniform_average')\n",
    "print('Mean Absolute Error Value is : ', MAEValue)\n",
    "\n",
    "MSEValue = mean_squared_error(y_test, y_pred, multioutput='uniform_average') \n",
    "print('Mean Squared Error Value is : ', MSEValue)\n",
    "\n",
    "MdSEValue = median_absolute_error(y_test, y_pred)\n",
    "print('Median Squared Error Value is : ', MdSEValue )"
   ]
  },
  {
   "cell_type": "markdown",
   "id": "13819c08",
   "metadata": {},
   "source": [
    "# Comparing Models\n"
   ]
  },
  {
   "cell_type": "code",
   "execution_count": 230,
   "id": "315ba4ed",
   "metadata": {},
   "outputs": [
    {
     "name": "stdout",
     "output_type": "stream",
     "text": [
      "result of model number :  1  for cv value  2  is  [0.68324824 0.71854787]\n",
      "-----------------------------------\n",
      "result of model number :  1  for cv value  3  is  [0.72260653 0.73548673 0.71549595]\n",
      "-----------------------------------\n",
      "result of model number :  1  for cv value  4  is  [0.78521086 0.65247224 0.74481609 0.75823642]\n",
      "-----------------------------------\n",
      "=====================================\n",
      "result of model number :  2  for cv value  2  is  [0.74606235 0.75130387]\n",
      "-----------------------------------\n",
      "result of model number :  2  for cv value  3  is  [0.74927063 0.7551822  0.7282883 ]\n",
      "-----------------------------------\n",
      "result of model number :  2  for cv value  4  is  [0.7717616  0.71032376 0.76732711 0.73473688]\n",
      "-----------------------------------\n",
      "=====================================\n",
      "result of model number :  3  for cv value  2  is  [0.81089719 0.81118432]\n",
      "-----------------------------------\n",
      "result of model number :  3  for cv value  3  is  [0.82112071 0.8196592  0.79173729]\n",
      "-----------------------------------\n",
      "result of model number :  3  for cv value  4  is  [0.8385372  0.75922572 0.82342462 0.82114242]\n",
      "-----------------------------------\n",
      "=====================================\n",
      "result of model number :  4  for cv value  2  is  [0.78489073 0.79220189]\n",
      "-----------------------------------\n",
      "result of model number :  4  for cv value  3  is  [0.79074265 0.78087786 0.77557461]\n",
      "-----------------------------------\n",
      "result of model number :  4  for cv value  4  is  [0.80330073 0.75060767 0.80699644 0.79252673]\n",
      "-----------------------------------\n",
      "=====================================\n"
     ]
    }
   ],
   "source": [
    "models = [DecisionTreeRegressorModel , LinearRegressionModel , regressor , knn]\n",
    "x=0\n",
    "for m in models:\n",
    "    x+=1\n",
    "    \n",
    "    for n in range(2,5):\n",
    "        print('result of model number : ' , x ,' for cv value ',n,' is ' , cross_val_score(m, X, Y, cv=n))  \n",
    "        print('-----------------------------------')\n",
    "\n",
    "    print('=====================================')"
   ]
  },
  {
   "cell_type": "markdown",
   "id": "84122749",
   "metadata": {},
   "source": [
    "* ## Visualization the features"
   ]
  },
  {
   "cell_type": "code",
   "execution_count": 231,
   "id": "472abbfa",
   "metadata": {
    "scrolled": false
   },
   "outputs": [
    {
     "name": "stdout",
     "output_type": "stream",
     "text": [
      "Data distribution analysys\n"
     ]
    },
    {
     "data": {
      "image/png": "[encoded data removed]",
      "text/plain": [
       "<Figure size 640x480 with 1 Axes>"
      ]
     },
     "metadata": {},
     "output_type": "display_data"
    },
    {
     "data": {
      "image/png": "[encoded data removed]",
      "text/plain": [
       "<Figure size 640x480 with 1 Axes>"
      ]
     },
     "metadata": {},
     "output_type": "display_data"
    },
    {
     "data": {
      "image/png": "[encoded data removed]",
      "text/plain": [
       "<Figure size 640x480 with 1 Axes>"
      ]
     },
     "metadata": {},
     "output_type": "display_data"
    },
    {
     "data": {
      "image/png": "[encoded data removed]",
      "text/plain": [
       "<Figure size 640x480 with 1 Axes>"
      ]
     },
     "metadata": {},
     "output_type": "display_data"
    },
    {
     "data": {
      "image/png": "[encoded data removed]",
      "text/plain": [
       "<Figure size 640x480 with 1 Axes>"
      ]
     },
     "metadata": {},
     "output_type": "display_data"
    },
    {
     "data": {
      "image/png": "[encoded data removed]",
      "text/plain": [
       "<Figure size 640x480 with 1 Axes>"
      ]
     },
     "metadata": {},
     "output_type": "display_data"
    },
    {
     "data": {
      "image/png": "[encoded data removed]",
      "text/plain": [
       "<Figure size 640x480 with 1 Axes>"
      ]
     },
     "metadata": {},
     "output_type": "display_data"
    },
    {
     "data": {
      "image/png": "[encoded data removed]",
      "text/plain": [
       "<Figure size 640x480 with 1 Axes>"
      ]
     },
     "metadata": {},
     "output_type": "display_data"
    }
   ],
   "source": [
    "df_pre['bmi_int'] = df_pre['bmi'].apply(lambda x: int(x))\n",
    "\n",
    "# data distribution analysys\n",
    "print('Data distribution analysys')\n",
    "for v in variables:\n",
    "    df_pre = df_pre.sort_values(by=[v])\n",
    "    df_pre[v].value_counts().plot(kind = 'bar')\n",
    "    plt.title(v)\n",
    "    plt.show()\n",
    "\n"
   ]
  }
 ],
 "metadata": {
  "kernelspec": {
   "display_name": "Python 3 (ipykernel)",
   "language": "python",
   "name": "python3"
  },
  "language_info": {
   "codemirror_mode": {
    "name": "ipython",
    "version": 3
   },
   "file_extension": ".py",
   "mimetype": "text/x-python",
   "name": "python",
   "nbconvert_exporter": "python",
   "pygments_lexer": "ipython3",
   "version": "3.9.13"
  }
 },
 "nbformat": 4,
 "nbformat_minor": 5
}
